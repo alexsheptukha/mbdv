{
 "cells": [
  {
   "cell_type": "code",
   "execution_count": 205,
   "id": "parallel-confidentiality",
   "metadata": {},
   "outputs": [],
   "source": [
    "import datetime\n",
    "import pandas as pd\n",
    "import numpy as np\n",
    "from sklearn.preprocessing import LabelEncoder\n",
    "from sklearn.preprocessing import StandardScaler, MinMaxScaler\n",
    "from sklearn.pipeline import Pipeline\n",
    "from sklearn.model_selection import cross_val_score, train_test_split\n",
    "from sklearn.linear_model import LinearRegression, Ridge\n",
    "from sklearn.ensemble import RandomForestRegressor\n",
    "from sklearn.metrics import max_error, mean_squared_error, explained_variance_score, mean_absolute_error\n",
    "from sklearn.decomposition import PCA, TruncatedSVD\n",
    "from sklearn.feature_extraction.text import TfidfVectorizer, HashingVectorizer\n",
    "from scipy.sparse import hstack\n",
    "from sklearn.model_selection import KFold\n",
    "from sklearn.svm import SVR\n",
    "from sklearn.neural_network import MLPRegressor"
   ]
  },
  {
   "cell_type": "code",
   "execution_count": 2,
   "id": "downtown-genesis",
   "metadata": {},
   "outputs": [],
   "source": [
    "TRAIN_FILE = \"Train.csv\"\n",
    "DEFAULT_CATEGORICAL_VALUE = \"NAN\""
   ]
  },
  {
   "cell_type": "code",
   "execution_count": 3,
   "id": "atomic-canvas",
   "metadata": {},
   "outputs": [],
   "source": [
    "df = pd.read_csv(TRAIN_FILE)"
   ]
  },
  {
   "cell_type": "code",
   "execution_count": 4,
   "id": "close-dallas",
   "metadata": {},
   "outputs": [
    {
     "data": {
      "text/html": [
       "<div>\n",
       "<style scoped>\n",
       "    .dataframe tbody tr th:only-of-type {\n",
       "        vertical-align: middle;\n",
       "    }\n",
       "\n",
       "    .dataframe tbody tr th {\n",
       "        vertical-align: top;\n",
       "    }\n",
       "\n",
       "    .dataframe thead th {\n",
       "        text-align: right;\n",
       "    }\n",
       "</style>\n",
       "<table border=\"1\" class=\"dataframe\">\n",
       "  <thead>\n",
       "    <tr style=\"text-align: right;\">\n",
       "      <th></th>\n",
       "      <th>name</th>\n",
       "      <th>summary</th>\n",
       "      <th>description</th>\n",
       "      <th>neighborhood_overview</th>\n",
       "      <th>transit</th>\n",
       "      <th>host_since</th>\n",
       "      <th>host_location</th>\n",
       "      <th>host_about</th>\n",
       "      <th>host_response_rate</th>\n",
       "      <th>host_acceptance_rate</th>\n",
       "      <th>...</th>\n",
       "      <th>review_scores_accuracy</th>\n",
       "      <th>review_scores_cleanliness</th>\n",
       "      <th>review_scores_checkin</th>\n",
       "      <th>review_scores_communication</th>\n",
       "      <th>review_scores_location</th>\n",
       "      <th>review_scores_value</th>\n",
       "      <th>instant_bookable</th>\n",
       "      <th>cancellation_policy</th>\n",
       "      <th>calculated_host_listings_count</th>\n",
       "      <th>reviews_per_month</th>\n",
       "    </tr>\n",
       "  </thead>\n",
       "  <tbody>\n",
       "    <tr>\n",
       "      <th>0</th>\n",
       "      <td>Guest Quarters on Capitol Hill</td>\n",
       "      <td>The  Guest Quarters on Capitol Hill is a garde...</td>\n",
       "      <td>The  Guest Quarters on Capitol Hill is a garde...</td>\n",
       "      <td>the convenience and charm of being on Capitol ...</td>\n",
       "      <td>The Red Line and the Blue Line Metros are with...</td>\n",
       "      <td>2013-08-14</td>\n",
       "      <td>Washington, District of Columbia, United States</td>\n",
       "      <td>We are a reservation service for many DC area ...</td>\n",
       "      <td>98%</td>\n",
       "      <td>52%</td>\n",
       "      <td>...</td>\n",
       "      <td>10.0</td>\n",
       "      <td>10.0</td>\n",
       "      <td>10.0</td>\n",
       "      <td>10.0</td>\n",
       "      <td>10.0</td>\n",
       "      <td>8.0</td>\n",
       "      <td>f</td>\n",
       "      <td>strict</td>\n",
       "      <td>41</td>\n",
       "      <td>0.18</td>\n",
       "    </tr>\n",
       "    <tr>\n",
       "      <th>1</th>\n",
       "      <td>Private oasis. Top floor w/ 2 decks</td>\n",
       "      <td>Top two floors, two bathrooms and two decks. M...</td>\n",
       "      <td>Top two floors, two bathrooms and two decks. M...</td>\n",
       "      <td>Adams Morgan is the most vibrant part of DC wh...</td>\n",
       "      <td>There is so many transportation options. Acros...</td>\n",
       "      <td>2012-01-23</td>\n",
       "      <td>Washington, District of Columbia, United States</td>\n",
       "      <td>I have lived in DC for that past five years, b...</td>\n",
       "      <td>100%</td>\n",
       "      <td>100%</td>\n",
       "      <td>...</td>\n",
       "      <td>9.0</td>\n",
       "      <td>9.0</td>\n",
       "      <td>10.0</td>\n",
       "      <td>9.0</td>\n",
       "      <td>10.0</td>\n",
       "      <td>9.0</td>\n",
       "      <td>f</td>\n",
       "      <td>strict</td>\n",
       "      <td>1</td>\n",
       "      <td>0.41</td>\n",
       "    </tr>\n",
       "    <tr>\n",
       "      <th>2</th>\n",
       "      <td>People's Place -Convention Center</td>\n",
       "      <td>NaN</td>\n",
       "      <td>This 2 bedroom apartment is on the ground floo...</td>\n",
       "      <td>NaN</td>\n",
       "      <td>NaN</td>\n",
       "      <td>2009-10-31</td>\n",
       "      <td>Berkeley, California, United States</td>\n",
       "      <td>A professional photo editor and photographer l...</td>\n",
       "      <td>97%</td>\n",
       "      <td>100%</td>\n",
       "      <td>...</td>\n",
       "      <td>8.0</td>\n",
       "      <td>8.0</td>\n",
       "      <td>9.0</td>\n",
       "      <td>9.0</td>\n",
       "      <td>9.0</td>\n",
       "      <td>9.0</td>\n",
       "      <td>f</td>\n",
       "      <td>strict</td>\n",
       "      <td>3</td>\n",
       "      <td>1.09</td>\n",
       "    </tr>\n",
       "    <tr>\n",
       "      <th>3</th>\n",
       "      <td>M St Apt C</td>\n",
       "      <td>Inspired by MidEast styles. 1 full bed, 1 air ...</td>\n",
       "      <td>Inspired by MidEast styles. 1 full bed, 1 air ...</td>\n",
       "      <td>I love this neighborhood! Mt. Vernon is the ve...</td>\n",
       "      <td>The Mt. Vernon Sq metro is just 2 blocks away ...</td>\n",
       "      <td>2013-04-23</td>\n",
       "      <td>San Francisco, California, United States</td>\n",
       "      <td>I am from Oakland, California and I like to li...</td>\n",
       "      <td>92%</td>\n",
       "      <td>100%</td>\n",
       "      <td>...</td>\n",
       "      <td>9.0</td>\n",
       "      <td>8.0</td>\n",
       "      <td>8.0</td>\n",
       "      <td>8.0</td>\n",
       "      <td>9.0</td>\n",
       "      <td>9.0</td>\n",
       "      <td>f</td>\n",
       "      <td>flexible</td>\n",
       "      <td>4</td>\n",
       "      <td>4.34</td>\n",
       "    </tr>\n",
       "    <tr>\n",
       "      <th>4</th>\n",
       "      <td>Columbia Heights Rm w/Private Bath</td>\n",
       "      <td>Enjoy our dressed up guest room in the heart o...</td>\n",
       "      <td>Enjoy our dressed up guest room in the heart o...</td>\n",
       "      <td>NaN</td>\n",
       "      <td>NaN</td>\n",
       "      <td>2012-07-09</td>\n",
       "      <td>Washington, District of Columbia, United States</td>\n",
       "      <td>I'm a tree-hugger at heart. My wife is an arti...</td>\n",
       "      <td>100%</td>\n",
       "      <td>75%</td>\n",
       "      <td>...</td>\n",
       "      <td>9.0</td>\n",
       "      <td>9.0</td>\n",
       "      <td>10.0</td>\n",
       "      <td>10.0</td>\n",
       "      <td>8.0</td>\n",
       "      <td>9.0</td>\n",
       "      <td>f</td>\n",
       "      <td>moderate</td>\n",
       "      <td>3</td>\n",
       "      <td>0.09</td>\n",
       "    </tr>\n",
       "  </tbody>\n",
       "</table>\n",
       "<p>5 rows × 45 columns</p>\n",
       "</div>"
      ],
      "text/plain": [
       "                                  name  \\\n",
       "0       Guest Quarters on Capitol Hill   \n",
       "1  Private oasis. Top floor w/ 2 decks   \n",
       "2    People's Place -Convention Center   \n",
       "3                           M St Apt C   \n",
       "4   Columbia Heights Rm w/Private Bath   \n",
       "\n",
       "                                             summary  \\\n",
       "0  The  Guest Quarters on Capitol Hill is a garde...   \n",
       "1  Top two floors, two bathrooms and two decks. M...   \n",
       "2                                                NaN   \n",
       "3  Inspired by MidEast styles. 1 full bed, 1 air ...   \n",
       "4  Enjoy our dressed up guest room in the heart o...   \n",
       "\n",
       "                                         description  \\\n",
       "0  The  Guest Quarters on Capitol Hill is a garde...   \n",
       "1  Top two floors, two bathrooms and two decks. M...   \n",
       "2  This 2 bedroom apartment is on the ground floo...   \n",
       "3  Inspired by MidEast styles. 1 full bed, 1 air ...   \n",
       "4  Enjoy our dressed up guest room in the heart o...   \n",
       "\n",
       "                               neighborhood_overview  \\\n",
       "0  the convenience and charm of being on Capitol ...   \n",
       "1  Adams Morgan is the most vibrant part of DC wh...   \n",
       "2                                                NaN   \n",
       "3  I love this neighborhood! Mt. Vernon is the ve...   \n",
       "4                                                NaN   \n",
       "\n",
       "                                             transit  host_since  \\\n",
       "0  The Red Line and the Blue Line Metros are with...  2013-08-14   \n",
       "1  There is so many transportation options. Acros...  2012-01-23   \n",
       "2                                                NaN  2009-10-31   \n",
       "3  The Mt. Vernon Sq metro is just 2 blocks away ...  2013-04-23   \n",
       "4                                                NaN  2012-07-09   \n",
       "\n",
       "                                     host_location  \\\n",
       "0  Washington, District of Columbia, United States   \n",
       "1  Washington, District of Columbia, United States   \n",
       "2              Berkeley, California, United States   \n",
       "3         San Francisco, California, United States   \n",
       "4  Washington, District of Columbia, United States   \n",
       "\n",
       "                                          host_about host_response_rate  \\\n",
       "0  We are a reservation service for many DC area ...                98%   \n",
       "1  I have lived in DC for that past five years, b...               100%   \n",
       "2  A professional photo editor and photographer l...                97%   \n",
       "3  I am from Oakland, California and I like to li...                92%   \n",
       "4  I'm a tree-hugger at heart. My wife is an arti...               100%   \n",
       "\n",
       "  host_acceptance_rate  ... review_scores_accuracy review_scores_cleanliness  \\\n",
       "0                  52%  ...                   10.0                      10.0   \n",
       "1                 100%  ...                    9.0                       9.0   \n",
       "2                 100%  ...                    8.0                       8.0   \n",
       "3                 100%  ...                    9.0                       8.0   \n",
       "4                  75%  ...                    9.0                       9.0   \n",
       "\n",
       "  review_scores_checkin review_scores_communication review_scores_location  \\\n",
       "0                  10.0                        10.0                   10.0   \n",
       "1                  10.0                         9.0                   10.0   \n",
       "2                   9.0                         9.0                    9.0   \n",
       "3                   8.0                         8.0                    9.0   \n",
       "4                  10.0                        10.0                    8.0   \n",
       "\n",
       "  review_scores_value instant_bookable cancellation_policy  \\\n",
       "0                 8.0                f              strict   \n",
       "1                 9.0                f              strict   \n",
       "2                 9.0                f              strict   \n",
       "3                 9.0                f            flexible   \n",
       "4                 9.0                f            moderate   \n",
       "\n",
       "  calculated_host_listings_count reviews_per_month  \n",
       "0                             41              0.18  \n",
       "1                              1              0.41  \n",
       "2                              3              1.09  \n",
       "3                              4              4.34  \n",
       "4                              3              0.09  \n",
       "\n",
       "[5 rows x 45 columns]"
      ]
     },
     "execution_count": 4,
     "metadata": {},
     "output_type": "execute_result"
    }
   ],
   "source": [
    "df.head()"
   ]
  },
  {
   "cell_type": "markdown",
   "id": "adjusted-thesaurus",
   "metadata": {},
   "source": [
    "## В нашем датасете присутствуют разные типы данных: числовые, категориальные, текстовые, datetime объекты. Чтобы не выявлять эти типы вручную, автоматизируем этот процесс"
   ]
  },
  {
   "cell_type": "code",
   "execution_count": 5,
   "id": "clean-handle",
   "metadata": {},
   "outputs": [],
   "source": [
    "# с числовыми работать проще всего, поэтому выделим и проанализируем нечисловые \n",
    "not_numerical = list()\n",
    "numerical = list()\n",
    "for col in df.columns:\n",
    "    try:\n",
    "        while True:\n",
    "            value = df[col][np.random.randint(0, 3012)]\n",
    "            if value is np.nan:\n",
    "                continue\n",
    "            else:\n",
    "                break\n",
    "        # числовое значение в этом месте не вызовет ошибки\n",
    "        v = float(value)\n",
    "        numerical.append(col)\n",
    "    except ValueError:\n",
    "        not_numerical.append(col)"
   ]
  },
  {
   "cell_type": "code",
   "execution_count": 6,
   "id": "agreed-responsibility",
   "metadata": {},
   "outputs": [
    {
     "data": {
      "text/plain": [
       "['name',\n",
       " 'summary',\n",
       " 'description',\n",
       " 'neighborhood_overview',\n",
       " 'transit',\n",
       " 'host_since',\n",
       " 'host_location',\n",
       " 'host_about',\n",
       " 'host_response_rate',\n",
       " 'host_acceptance_rate',\n",
       " 'host_neighbourhood',\n",
       " 'host_verifications',\n",
       " 'neighbourhood_cleansed',\n",
       " 'city',\n",
       " 'state',\n",
       " 'market',\n",
       " 'smart_location',\n",
       " 'country_code',\n",
       " 'country',\n",
       " 'property_type',\n",
       " 'room_type',\n",
       " 'bed_type',\n",
       " 'amenities',\n",
       " 'price',\n",
       " 'cleaning_fee',\n",
       " 'instant_bookable',\n",
       " 'cancellation_policy']"
      ]
     },
     "execution_count": 6,
     "metadata": {},
     "output_type": "execute_result"
    }
   ],
   "source": [
    "not_numerical"
   ]
  },
  {
   "cell_type": "code",
   "execution_count": 7,
   "id": "adapted-raleigh",
   "metadata": {},
   "outputs": [
    {
     "data": {
      "text/plain": [
       "['zipcode',\n",
       " 'accommodates',\n",
       " 'bathrooms',\n",
       " 'bedrooms',\n",
       " 'beds',\n",
       " 'guests_included',\n",
       " 'minimum_nights',\n",
       " 'maximum_nights',\n",
       " 'number_of_reviews',\n",
       " 'review_scores_rating',\n",
       " 'review_scores_accuracy',\n",
       " 'review_scores_cleanliness',\n",
       " 'review_scores_checkin',\n",
       " 'review_scores_communication',\n",
       " 'review_scores_location',\n",
       " 'review_scores_value',\n",
       " 'calculated_host_listings_count',\n",
       " 'reviews_per_month']"
      ]
     },
     "execution_count": 7,
     "metadata": {},
     "output_type": "execute_result"
    }
   ],
   "source": [
    "numerical"
   ]
  },
  {
   "cell_type": "markdown",
   "id": "cubic-facing",
   "metadata": {},
   "source": [
    "\n",
    "\n",
    "**В нечисловых данных:**\n",
    "\n",
    "**name - тексовая переменная - скорее всего название отеля, у каждого уникальное, вряд ли несёт полезную информацию**\n",
    "\n",
    "**summary - текстовая переменная - описание, может содержать ключевые слова, влияющие на конечную цену**\n",
    "\n",
    "**description - текстовая переменная - то же самое, что и summary, можно просто отбросить, оставить один из них**\n",
    "\n",
    "**neighborhood_overview - текстовая переменная - описание того, что по соседству, скорее всего важный параметр**\n",
    "\n",
    "**transit - текстовая переменная - описание того, насколько удобно расположение относительно транспорта, важно**\n",
    "\n",
    "**host_since - datetime объект - дата**\n",
    "\n",
    "**host_location - текстовая переменная - расположение, может влиять на цену, так как стоимость жилья в США сильно зависит от штата**\n",
    "\n",
    "**host_about - текстовая переменная - как хозяин владельцы описывают себя**\n",
    "\n",
    "**host_response_rate - числовая переменная, нужно форматирование**\n",
    "\n",
    "**host_acceptance_rate - числовая переменная, нужно форматирование**\n",
    "\n",
    "**host_neighborhood - текстовая или категориальная - что находится по соседству**\n",
    "\n",
    "**neighborhood_cleansed - текстовая**\n",
    "\n",
    "**city - категориальная - город, важно**\n",
    "\n",
    "**state - категориальная - штат, важно**\n",
    "\n",
    "**market - категориальная - только одно значение 'D.C', можно отбросить**\n",
    "\n",
    "**smart_location - локация**\n",
    "\n",
    "**country_code - категориальная переменная - код страны, может влиять, но в датасете только значение 'US', так что это не даст информации**\n",
    "\n",
    "**country - категориальная переменная - название страны, несёт ту же информацию, что и country_code, можно отбросить**\n",
    "\n",
    "**property_type - категориальная переменная - тип жилья, скорее всего важно**\n",
    "\n",
    "**room_type - категориальная переменная - тип комнаты, важно**\n",
    "\n",
    "**bed_type - тип кровати, может быть важно**\n",
    "\n",
    "**amenities - после форматирования можно сделать текстовой переменной - удобства, важно**\n",
    "\n",
    "**price - числовая переменная после форматирования - целевая переменная, цена**\n",
    "\n",
    "**cleaning_fee - числовая - оплата за уборку**\n",
    "\n",
    "**instant_bookable - категориальная(бинарная) переменная - что-то связанное с заказом жилья**\n",
    "\n",
    "**cancellation_policy - категориальная переменная - политика отмены**\n"
   ]
  },
  {
   "cell_type": "code",
   "execution_count": 8,
   "id": "general-booking",
   "metadata": {},
   "outputs": [],
   "source": [
    "# категориальные переменные\n",
    "categorical = [\"city\", \"state\", \"market\", \"smart_location\", \"country_code\",\n",
    "              \"country\", \"property_type\", \"room_type\", \"bed_type\", \"instant_bookable\", \"cancellation_policy\"]\n",
    "\n",
    "# datetime объекты\n",
    "\n",
    "datetimes = [\"host_since\"]\n",
    "\n",
    "# текстовые переменные\n",
    "text = [\"name\", \"summary\", \"description\", \"neighborhood_overview\", \"transit\", \"host_location\", \"host_about\", \n",
    "       \"host_neighbourhood\", \"host_verifications\", \"amenities\", \"neighbourhood_cleansed\"]\n",
    "\n",
    "# переменные, отображающие процентное соотношение\n",
    "percents = [\"host_response_rate\", \"host_acceptance_rate\"]\n",
    "\n",
    "# переменные, обозначающие цену\n",
    "prices = [\"price\", \"cleaning_fee\"]"
   ]
  },
  {
   "cell_type": "code",
   "execution_count": 9,
   "id": "exact-watson",
   "metadata": {},
   "outputs": [
    {
     "data": {
      "text/plain": [
       "45"
      ]
     },
     "execution_count": 9,
     "metadata": {},
     "output_type": "execute_result"
    }
   ],
   "source": [
    "# проверяем, всё ли мы разобрали\n",
    "len(categorical) + len(text) + len(percents) + len(prices) + len(numerical) + len(datetimes)"
   ]
  },
  {
   "cell_type": "code",
   "execution_count": 11,
   "id": "ethical-matrix",
   "metadata": {},
   "outputs": [
    {
     "name": "stdout",
     "output_type": "stream",
     "text": [
      "city ['Washington' 'Washington, D.C.' 'Silver Spring' 'Mount Rainier'\n",
      " 'New York' 'Columbia Heights, middle of DC!' 'Washington ' 'Arlington'\n",
      " 'Takoma Park' 'Dupont Circle' 'Annapolis' 'Hyattsville'\n",
      " 'Capitol Hill, Washington' 'Adams Morgan'] \n",
      "\n",
      "\n",
      "state ['DC' 'MD' 'NY' 'VA' 'Washington DC'] \n",
      "\n",
      "\n",
      "market ['D.C.'] \n",
      "\n",
      "\n",
      "smart_location ['Washington, DC' 'Washington, D.C., DC' 'Silver Spring, MD'\n",
      " 'Mount Rainier, MD' 'New York, NY' 'Columbia Heights, middle of DC!, DC'\n",
      " 'Washington , DC' 'Arlington, VA' 'Takoma Park, MD' 'Dupont Circle, DC'\n",
      " 'Annapolis, MD' 'Hyattsville, MD' 'Capitol Hill, Washington, DC'\n",
      " 'Adams Morgan, Washington DC'] \n",
      "\n",
      "\n",
      "country_code ['US'] \n",
      "\n",
      "\n",
      "country ['United States'] \n",
      "\n",
      "\n",
      "property_type ['Apartment' 'House' 'Townhouse' 'Bed & Breakfast' 'Condominium' 'Cabin'\n",
      " 'Other' 'Loft' 'Boat' 'Dorm' nan 'Bungalow'] \n",
      "\n",
      "\n",
      "room_type ['Entire home/apt' 'Private room' 'Shared room'] \n",
      "\n",
      "\n",
      "bed_type ['Real Bed' 'Pull-out Sofa' 'Futon' 'Couch' 'Airbed'] \n",
      "\n",
      "\n",
      "instant_bookable ['f' 't'] \n",
      "\n",
      "\n",
      "cancellation_policy ['strict' 'flexible' 'moderate' 'super_strict_30'] \n",
      "\n",
      "\n"
     ]
    }
   ],
   "source": [
    "# посмотрим, какие из категориальных переменных имеют одно значение\n",
    "for col in categorical:\n",
    "    print(col, df[col].unique(), \"\\n\\n\")"
   ]
  },
  {
   "cell_type": "code",
   "execution_count": 12,
   "id": "chubby-oklahoma",
   "metadata": {},
   "outputs": [],
   "source": [
    "transformed_df = df.copy()"
   ]
  },
  {
   "cell_type": "code",
   "execution_count": 13,
   "id": "decent-sunday",
   "metadata": {},
   "outputs": [],
   "source": [
    "# отбросим переменные с одинаковым значением и name\n",
    "transformed_df.drop([\"name\", \"country\", \"country_code\", \"market\"], inplace=True, axis=1)"
   ]
  },
  {
   "cell_type": "code",
   "execution_count": 14,
   "id": "sonic-heaven",
   "metadata": {},
   "outputs": [],
   "source": [
    "# определим функции для извлечения чисел из цен и процентных соотношений\n",
    "        \n",
    "def get_price_helper(x):\n",
    "    if x is not np.nan and '$' in x:\n",
    "        return float(x[1:].replace(\",\", \"\"))\n",
    "    else:\n",
    "        return np.nan\n",
    "    \n",
    "    \n",
    "def get_percents_helper(x):\n",
    "    if x is not np.nan and '%' in x:\n",
    "        return float(x[:-1])\n",
    "    else:\n",
    "        return np.nan\n",
    "    \n",
    "    \n",
    "def price_transformer(column):\n",
    "    arr = column.to_numpy()\n",
    "    price = np.vectorize(get_price_helper)(arr)\n",
    "    return price\n",
    "\n",
    "\n",
    "def percents_transformer(column):\n",
    "    arr = column.to_numpy()\n",
    "    percents = np.vectorize(get_percents_helper)(arr)\n",
    "    return percents"
   ]
  },
  {
   "cell_type": "code",
   "execution_count": 15,
   "id": "stylish-bicycle",
   "metadata": {},
   "outputs": [],
   "source": [
    "# определим функцию для перевода datetime объектов в timestamp\n",
    "\n",
    "def datetime_helper(x, pattern):\n",
    "    if x is not np.nan:\n",
    "        return datetime.datetime.strptime(x, pattern).timestamp()\n",
    "    return np.nan\n",
    "\n",
    "def datetime_to_timestamp(column, pattern):\n",
    "    arr = column.to_numpy()\n",
    "    timestamp = np.vectorize(datetime_helper)(arr, pattern)\n",
    "    return timestamp"
   ]
  },
  {
   "cell_type": "code",
   "execution_count": 16,
   "id": "interpreted-syntax",
   "metadata": {},
   "outputs": [],
   "source": [
    "# определим функции для векторизации текста\n",
    "\n",
    "def tfidf_vectorizer(df, columns):\n",
    "    # очистку текста от стоп-слов и лемматизацию оставляем на встроенный в класс TfidfVectorizer tokenizer\n",
    "    out_features = None\n",
    "    for column in columns:\n",
    "        # здесь размер выходного вектора будет длиной в количество слов, нак оторых мы делали fit, эти вектора \n",
    "        # хранятся как sparse-матрицы для экономии места\n",
    "        tfidf = TfidfVectorizer() \n",
    "        tfidf.fit(df[column])\n",
    "        if out_features is None:\n",
    "            out_features = tfidf.transform(df[column])\n",
    "        else:\n",
    "            out_features = hstack((out_features, tfidf.transform(df[column])))\n",
    "    return out_features\n",
    "\n",
    "\n",
    "def hashing_vectorizer(df, columns, n_features):\n",
    "    hasher = HashingVectorizer(n_features=n_features)\n",
    "    out_features = None\n",
    "    for column in columns:\n",
    "        if out_features is None:\n",
    "            out_features = hasher.transform(df[column])\n",
    "        else:\n",
    "            out_features = hstack((out_features, hasher.transform(df[column])))\n",
    "    return out_features"
   ]
  },
  {
   "cell_type": "code",
   "execution_count": 17,
   "id": "placed-customer",
   "metadata": {},
   "outputs": [],
   "source": [
    "# функция для кодирования категориальных переменных\n",
    "\n",
    "def fill_categorical_label(dataset, columns):\n",
    "    for column_name in columns:\n",
    "        label_encoder = LabelEncoder().fit(np.sort(dataset[column_name].unique()))\n",
    "        dataset[column_name] = dataset[column_name].map(\n",
    "            dict(zip(dataset[column_name].unique(), label_encoder.transform(dataset[column_name].unique()))))"
   ]
  },
  {
   "cell_type": "code",
   "execution_count": 19,
   "id": "serious-junior",
   "metadata": {},
   "outputs": [],
   "source": [
    "# функции для заполнения отсутствующих значений\n",
    "def numerical_fill(df, columns):\n",
    "    for column in columns:\n",
    "        # заполняем медианой \n",
    "        df[column].fillna(df[column].median(), inplace=True)\n",
    "        \n",
    "# функция для заполнения отсутствующих значений в категориальных переменных\n",
    "def categorical_fill(df, columns):\n",
    "    for column in columns:\n",
    "        # заполняем значением по умолчанию, также можно будет попробовать заполнять самым частым значением\n",
    "        df[column].fillna(df[column].mode(), inplace=True)\n"
   ]
  },
  {
   "cell_type": "markdown",
   "id": "intelligent-drinking",
   "metadata": {},
   "source": [
    "## Преобразуем цены и проценты в числовые переменные"
   ]
  },
  {
   "cell_type": "code",
   "execution_count": 20,
   "id": "fatty-shipping",
   "metadata": {},
   "outputs": [],
   "source": [
    "transformed_df[\"price\"] = price_transformer(transformed_df[\"price\"])"
   ]
  },
  {
   "cell_type": "code",
   "execution_count": 21,
   "id": "finnish-brown",
   "metadata": {},
   "outputs": [],
   "source": [
    "transformed_df[\"cleaning_fee\"] = price_transformer(transformed_df[\"cleaning_fee\"])"
   ]
  },
  {
   "cell_type": "code",
   "execution_count": 22,
   "id": "graduate-mistress",
   "metadata": {},
   "outputs": [],
   "source": [
    "transformed_df[\"host_response_rate\"] = percents_transformer(transformed_df[\"host_response_rate\"])"
   ]
  },
  {
   "cell_type": "code",
   "execution_count": 23,
   "id": "dutch-protection",
   "metadata": {},
   "outputs": [],
   "source": [
    "transformed_df[\"host_acceptance_rate\"] = percents_transformer(transformed_df[\"host_acceptance_rate\"])"
   ]
  },
  {
   "cell_type": "code",
   "execution_count": 32,
   "id": "grave-disclosure",
   "metadata": {},
   "outputs": [],
   "source": [
    "# переведём datetime в timestamp\n",
    "transformed_df[\"host_since\"] = datetime_to_timestamp(transformed_df[\"host_since\"], \"%Y-%m-%d\")"
   ]
  },
  {
   "cell_type": "code",
   "execution_count": 24,
   "id": "dependent-suite",
   "metadata": {},
   "outputs": [],
   "source": [
    "# мы сделали проценты и цены численными\n",
    "numerical.extend(prices)\n",
    "numerical.extend(percents)"
   ]
  },
  {
   "cell_type": "code",
   "execution_count": 26,
   "id": "sensitive-thomas",
   "metadata": {},
   "outputs": [],
   "source": [
    "# пока что отбросим поле zipcode, так как там есть и строки как с числами, так и с символами\n",
    "transformed_df.drop(\"zipcode\", axis=1, inplace=True)"
   ]
  },
  {
   "cell_type": "code",
   "execution_count": 28,
   "id": "disturbed-guess",
   "metadata": {},
   "outputs": [],
   "source": [
    "numerical.remove(\"zipcode\")"
   ]
  },
  {
   "cell_type": "markdown",
   "id": "literary-gauge",
   "metadata": {},
   "source": [
    "## На этом моменте я разделю датасет на 3: с числовыми переменными, с категориальными и с текстом"
   ]
  },
  {
   "cell_type": "code",
   "execution_count": 33,
   "id": "impossible-treat",
   "metadata": {},
   "outputs": [],
   "source": [
    "train_set = transformed_df.drop(\"price\", axis=1)"
   ]
  },
  {
   "cell_type": "code",
   "execution_count": 36,
   "id": "similar-appliance",
   "metadata": {},
   "outputs": [],
   "source": [
    "y = transformed_df[\"price\"]"
   ]
  },
  {
   "cell_type": "code",
   "execution_count": 37,
   "id": "animal-perfume",
   "metadata": {},
   "outputs": [],
   "source": [
    "numerical.remove(\"price\")"
   ]
  },
  {
   "cell_type": "code",
   "execution_count": 38,
   "id": "duplicate-cornell",
   "metadata": {},
   "outputs": [],
   "source": [
    "numerical_set = train_set[numerical]"
   ]
  },
  {
   "cell_type": "code",
   "execution_count": null,
   "id": "pressed-football",
   "metadata": {},
   "outputs": [],
   "source": [
    "# удалим из категориальных переменные с одинаковым значением\n",
    "categorical.remove(\"country\")\n",
    "categorical.remove(\"country_code\")"
   ]
  },
  {
   "cell_type": "code",
   "execution_count": 41,
   "id": "private-composite",
   "metadata": {},
   "outputs": [],
   "source": [
    "categorical.remove(\"market\")"
   ]
  },
  {
   "cell_type": "code",
   "execution_count": 42,
   "id": "entertaining-british",
   "metadata": {},
   "outputs": [
    {
     "data": {
      "text/plain": [
       "['city',\n",
       " 'state',\n",
       " 'smart_location',\n",
       " 'property_type',\n",
       " 'room_type',\n",
       " 'bed_type',\n",
       " 'instant_bookable',\n",
       " 'cancellation_policy']"
      ]
     },
     "execution_count": 42,
     "metadata": {},
     "output_type": "execute_result"
    }
   ],
   "source": [
    "categorical"
   ]
  },
  {
   "cell_type": "code",
   "execution_count": 80,
   "id": "defensive-management",
   "metadata": {},
   "outputs": [],
   "source": [
    "categorical_set = train_set[categorical]"
   ]
  },
  {
   "cell_type": "code",
   "execution_count": 45,
   "id": "warming-project",
   "metadata": {},
   "outputs": [],
   "source": [
    "# удалим поле name из-за неинформативности\n",
    "text.remove(\"name\")"
   ]
  },
  {
   "cell_type": "code",
   "execution_count": 46,
   "id": "banned-sewing",
   "metadata": {},
   "outputs": [],
   "source": [
    "text_set = train_set[text]"
   ]
  },
  {
   "cell_type": "code",
   "execution_count": 50,
   "id": "combined-observation",
   "metadata": {},
   "outputs": [
    {
     "name": "stderr",
     "output_type": "stream",
     "text": [
      "/home/alexey/development/lib/python3.8/site-packages/pandas/core/series.py:4433: SettingWithCopyWarning: \n",
      "A value is trying to be set on a copy of a slice from a DataFrame\n",
      "\n",
      "See the caveats in the documentation: https://pandas.pydata.org/pandas-docs/stable/user_guide/indexing.html#returning-a-view-versus-a-copy\n",
      "  return super().fillna(\n",
      "/home/alexey/development/lib/python3.8/site-packages/pandas/core/series.py:4433: SettingWithCopyWarning: \n",
      "A value is trying to be set on a copy of a slice from a DataFrame\n",
      "\n",
      "See the caveats in the documentation: https://pandas.pydata.org/pandas-docs/stable/user_guide/indexing.html#returning-a-view-versus-a-copy\n",
      "  return super().fillna(\n",
      "/home/alexey/development/lib/python3.8/site-packages/pandas/core/series.py:4433: SettingWithCopyWarning: \n",
      "A value is trying to be set on a copy of a slice from a DataFrame\n",
      "\n",
      "See the caveats in the documentation: https://pandas.pydata.org/pandas-docs/stable/user_guide/indexing.html#returning-a-view-versus-a-copy\n",
      "  return super().fillna(\n",
      "/home/alexey/development/lib/python3.8/site-packages/pandas/core/series.py:4433: SettingWithCopyWarning: \n",
      "A value is trying to be set on a copy of a slice from a DataFrame\n",
      "\n",
      "See the caveats in the documentation: https://pandas.pydata.org/pandas-docs/stable/user_guide/indexing.html#returning-a-view-versus-a-copy\n",
      "  return super().fillna(\n",
      "/home/alexey/development/lib/python3.8/site-packages/pandas/core/series.py:4433: SettingWithCopyWarning: \n",
      "A value is trying to be set on a copy of a slice from a DataFrame\n",
      "\n",
      "See the caveats in the documentation: https://pandas.pydata.org/pandas-docs/stable/user_guide/indexing.html#returning-a-view-versus-a-copy\n",
      "  return super().fillna(\n",
      "/home/alexey/development/lib/python3.8/site-packages/pandas/core/series.py:4433: SettingWithCopyWarning: \n",
      "A value is trying to be set on a copy of a slice from a DataFrame\n",
      "\n",
      "See the caveats in the documentation: https://pandas.pydata.org/pandas-docs/stable/user_guide/indexing.html#returning-a-view-versus-a-copy\n",
      "  return super().fillna(\n",
      "/home/alexey/development/lib/python3.8/site-packages/pandas/core/series.py:4433: SettingWithCopyWarning: \n",
      "A value is trying to be set on a copy of a slice from a DataFrame\n",
      "\n",
      "See the caveats in the documentation: https://pandas.pydata.org/pandas-docs/stable/user_guide/indexing.html#returning-a-view-versus-a-copy\n",
      "  return super().fillna(\n",
      "/home/alexey/development/lib/python3.8/site-packages/pandas/core/series.py:4433: SettingWithCopyWarning: \n",
      "A value is trying to be set on a copy of a slice from a DataFrame\n",
      "\n",
      "See the caveats in the documentation: https://pandas.pydata.org/pandas-docs/stable/user_guide/indexing.html#returning-a-view-versus-a-copy\n",
      "  return super().fillna(\n",
      "/home/alexey/development/lib/python3.8/site-packages/pandas/core/series.py:4433: SettingWithCopyWarning: \n",
      "A value is trying to be set on a copy of a slice from a DataFrame\n",
      "\n",
      "See the caveats in the documentation: https://pandas.pydata.org/pandas-docs/stable/user_guide/indexing.html#returning-a-view-versus-a-copy\n",
      "  return super().fillna(\n",
      "/home/alexey/development/lib/python3.8/site-packages/pandas/core/series.py:4433: SettingWithCopyWarning: \n",
      "A value is trying to be set on a copy of a slice from a DataFrame\n",
      "\n",
      "See the caveats in the documentation: https://pandas.pydata.org/pandas-docs/stable/user_guide/indexing.html#returning-a-view-versus-a-copy\n",
      "  return super().fillna(\n",
      "/home/alexey/development/lib/python3.8/site-packages/pandas/core/series.py:4433: SettingWithCopyWarning: \n",
      "A value is trying to be set on a copy of a slice from a DataFrame\n",
      "\n",
      "See the caveats in the documentation: https://pandas.pydata.org/pandas-docs/stable/user_guide/indexing.html#returning-a-view-versus-a-copy\n",
      "  return super().fillna(\n",
      "/home/alexey/development/lib/python3.8/site-packages/pandas/core/series.py:4433: SettingWithCopyWarning: \n",
      "A value is trying to be set on a copy of a slice from a DataFrame\n",
      "\n",
      "See the caveats in the documentation: https://pandas.pydata.org/pandas-docs/stable/user_guide/indexing.html#returning-a-view-versus-a-copy\n",
      "  return super().fillna(\n",
      "/home/alexey/development/lib/python3.8/site-packages/pandas/core/series.py:4433: SettingWithCopyWarning: \n",
      "A value is trying to be set on a copy of a slice from a DataFrame\n",
      "\n",
      "See the caveats in the documentation: https://pandas.pydata.org/pandas-docs/stable/user_guide/indexing.html#returning-a-view-versus-a-copy\n",
      "  return super().fillna(\n",
      "/home/alexey/development/lib/python3.8/site-packages/pandas/core/series.py:4433: SettingWithCopyWarning: \n",
      "A value is trying to be set on a copy of a slice from a DataFrame\n",
      "\n",
      "See the caveats in the documentation: https://pandas.pydata.org/pandas-docs/stable/user_guide/indexing.html#returning-a-view-versus-a-copy\n",
      "  return super().fillna(\n",
      "/home/alexey/development/lib/python3.8/site-packages/pandas/core/series.py:4433: SettingWithCopyWarning: \n",
      "A value is trying to be set on a copy of a slice from a DataFrame\n",
      "\n",
      "See the caveats in the documentation: https://pandas.pydata.org/pandas-docs/stable/user_guide/indexing.html#returning-a-view-versus-a-copy\n",
      "  return super().fillna(\n",
      "/home/alexey/development/lib/python3.8/site-packages/pandas/core/series.py:4433: SettingWithCopyWarning: \n",
      "A value is trying to be set on a copy of a slice from a DataFrame\n",
      "\n",
      "See the caveats in the documentation: https://pandas.pydata.org/pandas-docs/stable/user_guide/indexing.html#returning-a-view-versus-a-copy\n",
      "  return super().fillna(\n",
      "/home/alexey/development/lib/python3.8/site-packages/pandas/core/series.py:4433: SettingWithCopyWarning: \n",
      "A value is trying to be set on a copy of a slice from a DataFrame\n",
      "\n",
      "See the caveats in the documentation: https://pandas.pydata.org/pandas-docs/stable/user_guide/indexing.html#returning-a-view-versus-a-copy\n",
      "  return super().fillna(\n",
      "/home/alexey/development/lib/python3.8/site-packages/pandas/core/series.py:4433: SettingWithCopyWarning: \n",
      "A value is trying to be set on a copy of a slice from a DataFrame\n",
      "\n",
      "See the caveats in the documentation: https://pandas.pydata.org/pandas-docs/stable/user_guide/indexing.html#returning-a-view-versus-a-copy\n",
      "  return super().fillna(\n",
      "/home/alexey/development/lib/python3.8/site-packages/pandas/core/series.py:4433: SettingWithCopyWarning: \n",
      "A value is trying to be set on a copy of a slice from a DataFrame\n",
      "\n",
      "See the caveats in the documentation: https://pandas.pydata.org/pandas-docs/stable/user_guide/indexing.html#returning-a-view-versus-a-copy\n",
      "  return super().fillna(\n",
      "/home/alexey/development/lib/python3.8/site-packages/pandas/core/series.py:4433: SettingWithCopyWarning: \n",
      "A value is trying to be set on a copy of a slice from a DataFrame\n",
      "\n",
      "See the caveats in the documentation: https://pandas.pydata.org/pandas-docs/stable/user_guide/indexing.html#returning-a-view-versus-a-copy\n",
      "  return super().fillna(\n"
     ]
    }
   ],
   "source": [
    "# Заполним пустые значения\n",
    "numerical_fill(numerical_set, numerical)"
   ]
  },
  {
   "cell_type": "code",
   "execution_count": 51,
   "id": "limiting-kuwait",
   "metadata": {},
   "outputs": [
    {
     "data": {
      "text/plain": [
       "accommodates                      0\n",
       "bathrooms                         0\n",
       "bedrooms                          0\n",
       "beds                              0\n",
       "guests_included                   0\n",
       "minimum_nights                    0\n",
       "maximum_nights                    0\n",
       "number_of_reviews                 0\n",
       "review_scores_rating              0\n",
       "review_scores_accuracy            0\n",
       "review_scores_cleanliness         0\n",
       "review_scores_checkin             0\n",
       "review_scores_communication       0\n",
       "review_scores_location            0\n",
       "review_scores_value               0\n",
       "calculated_host_listings_count    0\n",
       "reviews_per_month                 0\n",
       "cleaning_fee                      0\n",
       "host_response_rate                0\n",
       "host_acceptance_rate              0\n",
       "dtype: int64"
      ]
     },
     "execution_count": 51,
     "metadata": {},
     "output_type": "execute_result"
    }
   ],
   "source": [
    "numerical_set.isna().sum()"
   ]
  },
  {
   "cell_type": "code",
   "execution_count": 81,
   "id": "hungarian-doubt",
   "metadata": {},
   "outputs": [
    {
     "name": "stderr",
     "output_type": "stream",
     "text": [
      "/home/alexey/development/lib/python3.8/site-packages/pandas/core/frame.py:4459: SettingWithCopyWarning: \n",
      "A value is trying to be set on a copy of a slice from a DataFrame\n",
      "\n",
      "See the caveats in the documentation: https://pandas.pydata.org/pandas-docs/stable/user_guide/indexing.html#returning-a-view-versus-a-copy\n",
      "  return super().fillna(\n"
     ]
    }
   ],
   "source": [
    "categorical_set.fillna(categorical_set.mode(), inplace=True)"
   ]
  },
  {
   "cell_type": "code",
   "execution_count": 86,
   "id": "above-english",
   "metadata": {},
   "outputs": [
    {
     "data": {
      "text/plain": [
       "city                   0\n",
       "state                  0\n",
       "smart_location         0\n",
       "property_type          1\n",
       "room_type              0\n",
       "bed_type               0\n",
       "instant_bookable       0\n",
       "cancellation_policy    0\n",
       "dtype: int64"
      ]
     },
     "execution_count": 86,
     "metadata": {},
     "output_type": "execute_result"
    }
   ],
   "source": [
    "categorical_set.isna().sum()"
   ]
  },
  {
   "cell_type": "code",
   "execution_count": 87,
   "id": "mature-methodology",
   "metadata": {},
   "outputs": [],
   "source": [
    "# почему-то в столбце property_type осталось одно пустое значение\n",
    "categorical_set = pd.concat([categorical_set, y], axis=1)"
   ]
  },
  {
   "cell_type": "code",
   "execution_count": 89,
   "id": "verified-retention",
   "metadata": {},
   "outputs": [],
   "source": [
    "categorical_set.dropna(inplace=True)\n"
   ]
  },
  {
   "cell_type": "code",
   "execution_count": 92,
   "id": "breathing-butler",
   "metadata": {},
   "outputs": [],
   "source": [
    "cat_y = categorical_set[\"price\"]\n",
    "categorical_set.drop(\"price\", axis=1, inplace=True)"
   ]
  },
  {
   "cell_type": "code",
   "execution_count": 97,
   "id": "greek-amsterdam",
   "metadata": {},
   "outputs": [],
   "source": [
    "encoded_categorical = categorical_set.copy()\n",
    "fill_categorical_label(encoded_categorical, categorical)"
   ]
  },
  {
   "cell_type": "code",
   "execution_count": 69,
   "id": "opened-tiffany",
   "metadata": {},
   "outputs": [],
   "source": [
    "# в текстовых данных заполним пустой строкой "
   ]
  },
  {
   "cell_type": "code",
   "execution_count": 70,
   "id": "constant-correction",
   "metadata": {},
   "outputs": [
    {
     "name": "stderr",
     "output_type": "stream",
     "text": [
      "/home/alexey/development/lib/python3.8/site-packages/pandas/core/frame.py:4459: SettingWithCopyWarning: \n",
      "A value is trying to be set on a copy of a slice from a DataFrame\n",
      "\n",
      "See the caveats in the documentation: https://pandas.pydata.org/pandas-docs/stable/user_guide/indexing.html#returning-a-view-versus-a-copy\n",
      "  return super().fillna(\n"
     ]
    }
   ],
   "source": [
    "text_set.fillna(\"\", inplace=True)"
   ]
  },
  {
   "cell_type": "code",
   "execution_count": 72,
   "id": "mature-fundamentals",
   "metadata": {},
   "outputs": [
    {
     "data": {
      "text/plain": [
       "summary                   0\n",
       "description               0\n",
       "neighborhood_overview     0\n",
       "transit                   0\n",
       "host_location             0\n",
       "host_about                0\n",
       "host_neighbourhood        0\n",
       "host_verifications        0\n",
       "amenities                 0\n",
       "neighbourhood_cleansed    0\n",
       "dtype: int64"
      ]
     },
     "execution_count": 72,
     "metadata": {},
     "output_type": "execute_result"
    }
   ],
   "source": [
    "text_set.isna().sum()"
   ]
  },
  {
   "cell_type": "markdown",
   "id": "distinct-heart",
   "metadata": {},
   "source": [
    "# Проверка моделей"
   ]
  },
  {
   "cell_type": "code",
   "execution_count": 130,
   "id": "executive-polls",
   "metadata": {},
   "outputs": [],
   "source": [
    "# функция для перекрёстной оценки\n",
    "\n",
    "def kfold_test(x, y, model, folds=5):\n",
    "    kfold = KFold(n_splits=folds)\n",
    "    for train_index, test_index in kfold.split(x):\n",
    "        x_train, x_test = x.iloc[train_index], x.iloc[test_index]\n",
    "        y_train, y_test = y.iloc[train_index], y.iloc[test_index]\n",
    "        model.fit(x_train, y_train)\n",
    "        y_train_pred = model.predict(x_train)\n",
    "        y_test_pred = model.predict(x_test)\n",
    "        print(\"train error\", mean_absolute_error(y_train, y_train_pred))\n",
    "        print(\"test error\", mean_absolute_error(y_test, y_test_pred), \"\\n\\n\")\n",
    "        \n",
    "def kfold_test_text(x, y, model, folds=5):\n",
    "    kfold = KFold(n_splits=folds)\n",
    "    for train_index, test_index in kfold.split(x):\n",
    "        x_train, x_test = x[train_index], x[test_index]\n",
    "        y_train, y_test = y[train_index], y[test_index]\n",
    "        model.fit(x_train, y_train)\n",
    "        y_train_pred = model.predict(x_train)\n",
    "        y_test_pred = model.predict(x_test)\n",
    "        print(\"train error\", mean_absolute_error(y_train, y_train_pred))\n",
    "        print(\"test error\", mean_absolute_error(y_test, y_test_pred), \"\\n\\n\")\n",
    "        \n",
    "\n",
    "    \n",
    "    "
   ]
  },
  {
   "cell_type": "markdown",
   "id": "meaning-object",
   "metadata": {},
   "source": [
    "# Linear Regression"
   ]
  },
  {
   "cell_type": "markdown",
   "id": "stuffed-buffalo",
   "metadata": {},
   "source": [
    "**Числовые переменные**"
   ]
  },
  {
   "cell_type": "code",
   "execution_count": 102,
   "id": "potential-detroit",
   "metadata": {},
   "outputs": [],
   "source": [
    "lin_reg = Pipeline(steps=[\n",
    "    (\"scaler\", StandardScaler()), # масштабируем данные\n",
    "    (\"lin_reg\", LinearRegression())\n",
    "])"
   ]
  },
  {
   "cell_type": "code",
   "execution_count": 128,
   "id": "toxic-offense",
   "metadata": {},
   "outputs": [
    {
     "name": "stdout",
     "output_type": "stream",
     "text": [
      "train error 57.35581016688911\n",
      "test error 51.031943117812474 \n",
      "\n",
      "\n",
      "train error 52.03108481697439\n",
      "test error 61.247344063198234 \n",
      "\n",
      "\n",
      "train error 55.85709661504433\n",
      "test error 93.50316521340066 \n",
      "\n",
      "\n",
      "train error 54.12203003235305\n",
      "test error 53.783627585154505 \n",
      "\n",
      "\n",
      "train error 54.75768384363731\n",
      "test error 58.048978321049184 \n",
      "\n",
      "\n"
     ]
    }
   ],
   "source": [
    "kfold_test(numerical_set, y, lin_reg)"
   ]
  },
  {
   "cell_type": "markdown",
   "id": "responsible-legislation",
   "metadata": {},
   "source": [
    "**Категориальные переменные**"
   ]
  },
  {
   "cell_type": "code",
   "execution_count": 129,
   "id": "continuing-rouge",
   "metadata": {},
   "outputs": [
    {
     "name": "stdout",
     "output_type": "stream",
     "text": [
      "train error 71.18316997207961\n",
      "test error 60.588130793961234 \n",
      "\n",
      "\n",
      "train error 65.30464982734895\n",
      "test error 77.57669712461134 \n",
      "\n",
      "\n",
      "train error 69.84098950349932\n",
      "test error 66.41699895256201 \n",
      "\n",
      "\n",
      "train error 67.37351225033107\n",
      "test error 69.91796157370197 \n",
      "\n",
      "\n",
      "train error 68.73110236643734\n",
      "test error 69.16031118581559 \n",
      "\n",
      "\n"
     ]
    }
   ],
   "source": [
    "kfold_test(encoded_categorical, cat_y, lin_reg)"
   ]
  },
  {
   "cell_type": "markdown",
   "id": "historic-creature",
   "metadata": {},
   "source": [
    "**Текстовые данные. Векторизуем какое-то из текстовых полей**"
   ]
  },
  {
   "cell_type": "code",
   "execution_count": 114,
   "id": "forty-alignment",
   "metadata": {},
   "outputs": [],
   "source": [
    "text_train = tfidf_vectorizer(text_set, [\"description\"])"
   ]
  },
  {
   "cell_type": "code",
   "execution_count": 116,
   "id": "sensitive-above",
   "metadata": {},
   "outputs": [
    {
     "data": {
      "text/plain": [
       "<3013x9812 sparse matrix of type '<class 'numpy.float64'>'\n",
       "\twith 272584 stored elements in Compressed Sparse Row format>"
      ]
     },
     "execution_count": 116,
     "metadata": {},
     "output_type": "execute_result"
    }
   ],
   "source": [
    "text_train"
   ]
  },
  {
   "cell_type": "code",
   "execution_count": 133,
   "id": "impressive-netherlands",
   "metadata": {},
   "outputs": [],
   "source": [
    "# размерность - 9812, встроим в pipeline декомпозицию PCA\n",
    "text_lin_reg = Pipeline(steps=[\n",
    "    (\"svd\", TruncatedSVD(n_components=100)),\n",
    "    (\"scaler\", StandardScaler()),\n",
    "    (\"lin_reg\", LinearRegression())\n",
    "])"
   ]
  },
  {
   "cell_type": "code",
   "execution_count": 134,
   "id": "packed-birthday",
   "metadata": {},
   "outputs": [
    {
     "name": "stdout",
     "output_type": "stream",
     "text": [
      "train error 68.75626724786794\n",
      "test error 59.41750728988262 \n",
      "\n",
      "\n",
      "train error 63.22509762903835\n",
      "test error 70.87985056472863 \n",
      "\n",
      "\n",
      "train error 66.72252882139763\n",
      "test error 62.681397740181744 \n",
      "\n",
      "\n",
      "train error 63.92260817139541\n",
      "test error 71.9899503119304 \n",
      "\n",
      "\n",
      "train error 64.69160740357884\n",
      "test error 68.1333271318704 \n",
      "\n",
      "\n"
     ]
    }
   ],
   "source": [
    "kfold_test_text(text_train, y, text_lin_reg)"
   ]
  },
  {
   "cell_type": "markdown",
   "id": "british-living",
   "metadata": {},
   "source": [
    "**линейная модель показывает себя плохо, попробуем нелинейные**"
   ]
  },
  {
   "cell_type": "markdown",
   "id": "anticipated-squad",
   "metadata": {},
   "source": [
    "# SVR"
   ]
  },
  {
   "cell_type": "code",
   "execution_count": 137,
   "id": "under-husband",
   "metadata": {},
   "outputs": [],
   "source": [
    "svr = Pipeline(steps=[\n",
    "    (\"scaler\", StandardScaler()),\n",
    "    (\"svr\", SVR())\n",
    "])"
   ]
  },
  {
   "cell_type": "code",
   "execution_count": 140,
   "id": "extended-wilderness",
   "metadata": {},
   "outputs": [
    {
     "name": "stdout",
     "output_type": "stream",
     "text": [
      "train error 58.656487827831825\n",
      "test error 50.577027223215495 \n",
      "\n",
      "\n",
      "train error 54.603523571056016\n",
      "test error 66.87495923589405 \n",
      "\n",
      "\n",
      "train error 57.65492013239953\n",
      "test error 52.92653665773538 \n",
      "\n",
      "\n",
      "train error 56.32301503863423\n",
      "test error 60.35189063783314 \n",
      "\n",
      "\n",
      "train error 57.17523812358849\n",
      "test error 56.13262946569442 \n",
      "\n",
      "\n"
     ]
    }
   ],
   "source": [
    "# numerical\n",
    "kfold_test(numerical_set, y, svr)"
   ]
  },
  {
   "cell_type": "code",
   "execution_count": 141,
   "id": "international-hungarian",
   "metadata": {},
   "outputs": [
    {
     "name": "stdout",
     "output_type": "stream",
     "text": [
      "train error 61.93511344396127\n",
      "test error 51.919313528545295 \n",
      "\n",
      "\n",
      "train error 57.101079600150314\n",
      "test error 71.02411421825349 \n",
      "\n",
      "\n",
      "train error 61.12979009890458\n",
      "test error 55.35101079774404 \n",
      "\n",
      "\n",
      "train error 59.0701357202972\n",
      "test error 63.511802192373764 \n",
      "\n",
      "\n",
      "train error 60.33389530927496\n",
      "test error 58.623416234483315 \n",
      "\n",
      "\n"
     ]
    }
   ],
   "source": [
    "# categorical\n",
    "kfold_test(encoded_categorical, cat_y, svr)"
   ]
  },
  {
   "cell_type": "code",
   "execution_count": 152,
   "id": "political-final",
   "metadata": {},
   "outputs": [],
   "source": [
    "text_svr = svr = Pipeline(steps=[\n",
    "    (\"svd\", TruncatedSVD(n_components=100)),\n",
    "    (\"scaler\", StandardScaler()),\n",
    "    (\"svr\", SVR())\n",
    "])"
   ]
  },
  {
   "cell_type": "code",
   "execution_count": 153,
   "id": "heavy-london",
   "metadata": {},
   "outputs": [
    {
     "name": "stdout",
     "output_type": "stream",
     "text": [
      "train error 67.50812790608768\n",
      "test error 58.96173699722473 \n",
      "\n",
      "\n",
      "train error 63.11090871675973\n",
      "test error 76.84624938505232 \n",
      "\n",
      "\n",
      "train error 67.07060639715498\n",
      "test error 60.81283797485942 \n",
      "\n",
      "\n",
      "train error 64.70410736588752\n",
      "test error 69.82076050483946 \n",
      "\n",
      "\n",
      "train error 66.10760122006693\n",
      "test error 64.66784497947513 \n",
      "\n",
      "\n"
     ]
    }
   ],
   "source": [
    "kfold_test_text(text_train, y, text_svr)"
   ]
  },
  {
   "cell_type": "markdown",
   "id": "choice-synthetic",
   "metadata": {},
   "source": [
    "# Random Forest Regression"
   ]
  },
  {
   "cell_type": "code",
   "execution_count": 187,
   "id": "grave-landscape",
   "metadata": {},
   "outputs": [],
   "source": [
    "rf = Pipeline(steps=[\n",
    "    (\"scaler\", StandardScaler()),\n",
    "    (\"rf\", RandomForestRegressor(n_estimators=100, min_samples_split=5, n_jobs=-1, criterion=\"mae\",\n",
    "                                 min_samples_leaf=10))\n",
    "])"
   ]
  },
  {
   "cell_type": "code",
   "execution_count": 188,
   "id": "toxic-currency",
   "metadata": {},
   "outputs": [
    {
     "name": "stdout",
     "output_type": "stream",
     "text": [
      "train error 41.529564315352694\n",
      "test error 40.74387230514096 \n",
      "\n",
      "\n",
      "train error 38.521383817427385\n",
      "test error 53.55597014925373 \n",
      "\n",
      "\n",
      "train error 41.02042116182572\n",
      "test error 42.781210613598674 \n",
      "\n",
      "\n",
      "train error 40.20000207382829\n",
      "test error 48.23169435215947 \n",
      "\n",
      "\n",
      "train error 40.17351928660307\n",
      "test error 46.18604651162791 \n",
      "\n",
      "\n"
     ]
    }
   ],
   "source": [
    "kfold_test(numerical_set, y, rf)"
   ]
  },
  {
   "cell_type": "code",
   "execution_count": 172,
   "id": "partial-trainer",
   "metadata": {},
   "outputs": [
    {
     "name": "stdout",
     "output_type": "stream",
     "text": [
      "train error 57.14477999169781\n",
      "test error 47.3093864013267 \n",
      "\n",
      "\n",
      "train error 52.100944375259445\n",
      "test error 67.60364013267 \n",
      "\n",
      "\n",
      "train error 55.89954564315352\n",
      "test error 52.59615448504984 \n",
      "\n",
      "\n",
      "train error 54.34098132780083\n",
      "test error 58.73886212624584 \n",
      "\n",
      "\n",
      "train error 55.51774273858921\n",
      "test error 54.22428571428571 \n",
      "\n",
      "\n"
     ]
    }
   ],
   "source": [
    "kfold_test(encoded_categorical, cat_y, rf)"
   ]
  },
  {
   "cell_type": "code",
   "execution_count": 202,
   "id": "neural-tradition",
   "metadata": {},
   "outputs": [],
   "source": [
    "# text set\n",
    "text_rf = svr = Pipeline(steps=[\n",
    "    (\"svd\", TruncatedSVD(n_components=10)),\n",
    "    (\"scaler\", StandardScaler()),\n",
    "    (\"svr\", RandomForestRegressor(n_estimators=30, min_samples_split=2, n_jobs=-1, criterion=\"mae\",\n",
    "                                 min_samples_leaf=2))\n",
    "])"
   ]
  },
  {
   "cell_type": "code",
   "execution_count": 203,
   "id": "incorporated-overall",
   "metadata": {},
   "outputs": [
    {
     "name": "stdout",
     "output_type": "stream",
     "text": [
      "train error 43.353492392807745\n",
      "test error 59.16694306246546 \n",
      "\n",
      "\n",
      "train error 39.71132780082988\n",
      "test error 74.78736871199558 \n",
      "\n",
      "\n",
      "train error 43.17894882434302\n",
      "test error 63.56716417910448 \n",
      "\n",
      "\n",
      "train error 41.65884833402461\n",
      "test error 71.71810631229236 \n",
      "\n",
      "\n",
      "train error 43.40595188718374\n",
      "test error 71.12447397563677 \n",
      "\n",
      "\n"
     ]
    }
   ],
   "source": [
    "kfold_test_text(text_train, y, text_rf)"
   ]
  },
  {
   "cell_type": "markdown",
   "id": "exclusive-constitution",
   "metadata": {},
   "source": [
    "# MLP Regressor"
   ]
  },
  {
   "cell_type": "code",
   "execution_count": 234,
   "id": "activated-windsor",
   "metadata": {},
   "outputs": [],
   "source": [
    "mlpr = Pipeline(steps=[\n",
    "    (\"scaler\", StandardScaler()),\n",
    "    (\"mlp\", MLPRegressor(hidden_layer_sizes=(3, 3), random_state=42, max_iter=10000, solver=\"adam\", activation=\"relu\"))\n",
    "])"
   ]
  },
  {
   "cell_type": "code",
   "execution_count": 232,
   "id": "regular-chemistry",
   "metadata": {},
   "outputs": [
    {
     "name": "stdout",
     "output_type": "stream",
     "text": [
      "train error 53.12277583473612\n",
      "test error 49.39737872360799 \n",
      "\n",
      "\n",
      "train error 49.09278572505419\n",
      "test error 59.254346737204095 \n",
      "\n",
      "\n",
      "train error 50.99910088618802\n",
      "test error 280.4607629011353 \n",
      "\n",
      "\n",
      "train error 52.48052141364388\n",
      "test error 53.803443721812336 \n",
      "\n",
      "\n",
      "train error 51.209738718416254\n",
      "test error 65.10034726463721 \n",
      "\n",
      "\n"
     ]
    }
   ],
   "source": [
    "kfold_test(numerical_set, y, mlpr)"
   ]
  },
  {
   "cell_type": "code",
   "execution_count": 235,
   "id": "swiss-princeton",
   "metadata": {},
   "outputs": [
    {
     "name": "stdout",
     "output_type": "stream",
     "text": [
      "train error 67.37440811148757\n",
      "test error 55.28472185168597 \n",
      "\n",
      "\n",
      "train error 60.63887254721764\n",
      "test error 73.73801222975246 \n",
      "\n",
      "\n",
      "train error 63.864090629181334\n",
      "test error 61.380508733312816 \n",
      "\n",
      "\n",
      "train error 62.641874336296475\n",
      "test error 65.16675598664753 \n",
      "\n",
      "\n",
      "train error 64.04691505781199\n",
      "test error 65.480339167699 \n",
      "\n",
      "\n"
     ]
    }
   ],
   "source": [
    "kfold_test(encoded_categorical, cat_y, mlpr)"
   ]
  },
  {
   "cell_type": "code",
   "execution_count": 244,
   "id": "biological-indiana",
   "metadata": {},
   "outputs": [],
   "source": [
    "mlpr_text = Pipeline(steps=[\n",
    "    (\"svd\", TruncatedSVD(n_components=100)),\n",
    "    (\"mlp\", MLPRegressor(hidden_layer_sizes=(3,), random_state=42, max_iter=10000, solver=\"adam\", activation=\"relu\"))\n",
    "])"
   ]
  },
  {
   "cell_type": "code",
   "execution_count": 245,
   "id": "referenced-society",
   "metadata": {},
   "outputs": [
    {
     "name": "stderr",
     "output_type": "stream",
     "text": [
      "/home/alexey/development/lib/python3.8/site-packages/sklearn/neural_network/_multilayer_perceptron.py:614: ConvergenceWarning: Stochastic Optimizer: Maximum iterations (10000) reached and the optimization hasn't converged yet.\n",
      "  warnings.warn(\n"
     ]
    },
    {
     "name": "stdout",
     "output_type": "stream",
     "text": [
      "train error 57.980011861514534\n",
      "test error 52.28229696383806 \n",
      "\n",
      "\n",
      "train error 62.3738339223207\n",
      "test error 70.31311479048804 \n",
      "\n",
      "\n",
      "train error 56.48087514221192\n",
      "test error 56.23714522808524 \n",
      "\n",
      "\n"
     ]
    },
    {
     "name": "stderr",
     "output_type": "stream",
     "text": [
      "/home/alexey/development/lib/python3.8/site-packages/sklearn/neural_network/_multilayer_perceptron.py:614: ConvergenceWarning: Stochastic Optimizer: Maximum iterations (10000) reached and the optimization hasn't converged yet.\n",
      "  warnings.warn(\n"
     ]
    },
    {
     "name": "stdout",
     "output_type": "stream",
     "text": [
      "train error 52.9769176318285\n",
      "test error 64.46608538977958 \n",
      "\n",
      "\n",
      "train error 52.99710753173935\n",
      "test error 60.23649613346984 \n",
      "\n",
      "\n"
     ]
    },
    {
     "name": "stderr",
     "output_type": "stream",
     "text": [
      "/home/alexey/development/lib/python3.8/site-packages/sklearn/neural_network/_multilayer_perceptron.py:614: ConvergenceWarning: Stochastic Optimizer: Maximum iterations (10000) reached and the optimization hasn't converged yet.\n",
      "  warnings.warn(\n"
     ]
    }
   ],
   "source": [
    "kfold_test_text(text_train, y, mlpr_text)"
   ]
  },
  {
   "cell_type": "markdown",
   "id": "hindu-surgeon",
   "metadata": {},
   "source": [
    "## Не удалось определить хорошую модель, совмещение датасетов разных типов тоже не дало хорошего результата. Возможно, нужно больше времени на подбор гиперпааметров или генерацию новых признаков"
   ]
  },
  {
   "cell_type": "markdown",
   "id": "characteristic-leeds",
   "metadata": {},
   "source": [
    "**функция для заполнения Submission файла**"
   ]
  },
  {
   "cell_type": "code",
   "execution_count": 277,
   "id": "starting-necklace",
   "metadata": {},
   "outputs": [],
   "source": [
    "def make_submission(file, prediction_column, model, out_file):\n",
    "    test_set = pd.read_csv(file)\n",
    "    # предсказания на числовых данных\n",
    "    needed_columns = ['accommodates', 'bathrooms', 'bedrooms',\n",
    "   'beds', 'guests_included', 'minimum_nights', 'maximum_nights',\n",
    "   'number_of_reviews', 'review_scores_rating', 'review_scores_accuracy', 'review_scores_cleanliness',\n",
    "   'review_scores_checkin', 'review_scores_communication', 'review_scores_location', 'review_scores_value',\n",
    "   'calculated_host_listings_count', 'reviews_per_month', 'cleaning_fee', 'host_response_rate', 'host_acceptance_rate']\n",
    "    num_set = test_set.copy()[needed_columns]\n",
    "    num_set[\"cleaning_fee\"] = price_transformer(num_set[\"cleaning_fee\"])   \n",
    "    num_set[\"host_response_rate\"] = percents_transformer(num_set[\"host_response_rate\"])\n",
    "    num_set[\"host_acceptance_rate\"] = percents_transformer(num_set[\"host_acceptance_rate\"])\n",
    "    numerical_fill(num_set, needed_columns)\n",
    "    predictions = model.predict(num_set)\n",
    "    pred_col = pd.DataFrame({prediction_column: predictions})\n",
    "    out_df = pd.concat([test_set, pred_col], axis=1)\n",
    "    out_df.to_csv(out_file, index=False)\n",
    "    "
   ]
  },
  {
   "cell_type": "code",
   "execution_count": 257,
   "id": "precise-flour",
   "metadata": {},
   "outputs": [],
   "source": [
    "# тренируем на численных данных\n",
    "fin_reg = Pipeline(steps=[\n",
    "    (\"scaler\", StandardScaler()),\n",
    "    (\"rf\", RandomForestRegressor(n_estimators=100, min_samples_split=5, n_jobs=-1, criterion=\"mae\",\n",
    "                                 min_samples_leaf=10))\n",
    "])"
   ]
  },
  {
   "cell_type": "code",
   "execution_count": 258,
   "id": "decimal-sending",
   "metadata": {},
   "outputs": [
    {
     "data": {
      "text/plain": [
       "Pipeline(steps=[('scaler', StandardScaler()),\n",
       "                ('rf',\n",
       "                 RandomForestRegressor(criterion='mae', min_samples_leaf=10,\n",
       "                                       min_samples_split=5, n_jobs=-1))])"
      ]
     },
     "execution_count": 258,
     "metadata": {},
     "output_type": "execute_result"
    }
   ],
   "source": [
    "fin_reg.fit(numerical_set, y)"
   ]
  },
  {
   "cell_type": "code",
   "execution_count": 278,
   "id": "fitting-calendar",
   "metadata": {},
   "outputs": [],
   "source": [
    "make_submission(\"Submission.csv\", \"price_prediction\", fin_reg, \"sub.csv\")"
   ]
  },
  {
   "cell_type": "code",
   "execution_count": 279,
   "id": "educational-standard",
   "metadata": {},
   "outputs": [],
   "source": []
  },
  {
   "cell_type": "code",
   "execution_count": null,
   "id": "tropical-documentation",
   "metadata": {},
   "outputs": [],
   "source": []
  },
  {
   "cell_type": "code",
   "execution_count": null,
   "id": "proprietary-holocaust",
   "metadata": {},
   "outputs": [],
   "source": []
  },
  {
   "cell_type": "code",
   "execution_count": null,
   "id": "bulgarian-timer",
   "metadata": {},
   "outputs": [],
   "source": []
  }
 ],
 "metadata": {
  "kernelspec": {
   "display_name": "Python 3",
   "language": "python",
   "name": "python3"
  },
  "language_info": {
   "codemirror_mode": {
    "name": "ipython",
    "version": 3
   },
   "file_extension": ".py",
   "mimetype": "text/x-python",
   "name": "python",
   "nbconvert_exporter": "python",
   "pygments_lexer": "ipython3",
   "version": "3.8.5"
  }
 },
 "nbformat": 4,
 "nbformat_minor": 5
}
